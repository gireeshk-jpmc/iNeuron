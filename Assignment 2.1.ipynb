{
 "cells": [
  {
   "cell_type": "markdown",
   "metadata": {},
   "source": [
    "## Problem Statement"
   ]
  },
  {
   "cell_type": "markdown",
   "metadata": {},
   "source": [
    "Q.1.1 Write a Python Program to implement your own myreduce() function which works exactly like\n",
    "Python's built-in function reduce()\n"
   ]
  },
  {
   "cell_type": "code",
   "execution_count": 7,
   "metadata": {},
   "outputs": [
    {
     "name": "stdout",
     "output_type": "stream",
     "text": [
      "46\n",
      "1.2626262626262625e-05\n",
      "12\n"
     ]
    }
   ],
   "source": [
    "#Q1.1\n",
    "import operator\n",
    "\n",
    "\n",
    "lst = (1, 12, 3, 4, 5, 10, 11)\n",
    "def addition(a, b):\n",
    "    return a+b\n",
    "\n",
    "def myreduce(operation, lst):\n",
    "    result = lst[0]\n",
    "    for i in range(1, len(lst)):\n",
    "        result = operation(result, lst[i])\n",
    "    return result\n",
    "\n",
    "print(myreduce(addition, lst))\n",
    "print(myreduce(operator.truediv, lst))\n",
    "print(myreduce(lambda x,y: x if x>y else y, lst))"
   ]
  },
  {
   "cell_type": "markdown",
   "metadata": {},
   "source": [
    "Q.1.2 Write a Python program to implement your own myfilter() function which works exactly like\n",
    "Python's built-in function filter()"
   ]
  },
  {
   "cell_type": "code",
   "execution_count": null,
   "metadata": {},
   "outputs": [],
   "source": [
    "#Q1.2\n",
    "lst = (1, 2, 3, 4, 5, 10)\n",
    "\n",
    "def filer_even(a):\n",
    "        return True if a%2 == 0 else False\n",
    "    \n",
    "def myfilter(func, lst):\n",
    "    my_lst = []\n",
    "    for i in lst:\n",
    "        if func(i):\n",
    "            my_lst.append(i)\n",
    "    return my_lst\n",
    "        \n",
    "print(myfilter(filer_even, lst))\n",
    "print(myfilter(lambda x: x%2==1, lst))"
   ]
  },
  {
   "cell_type": "markdown",
   "metadata": {},
   "source": [
    "Q.2 Implement List comprehensions to produce the following lists.\n",
    "   Write List comprehensions to produce the following Lists\n",
    "   \n",
    "   \n",
    "    ['x', 'xx', 'xxx', 'xxxx', 'y', 'yy', 'yyy', 'yyyy', 'z', 'zz', 'zzz', 'zzzz']\n",
    "\n",
    "    ['x', 'y', 'z', 'xx', 'yy', 'zz', 'xx', 'yy', 'zz', 'xxxx', 'yyyy', 'zzzz']\n",
    "    \n",
    "    [[2], [3], [4], [3], [4], [5], [4], [5], [6]]\n",
    "\n",
    "    [[2, 3, 4, 5], [3, 4, 5, 6], [4, 5, 6, 7], [5, 6, 7, 8]]\n",
    "\n",
    "    [(1, 1), (2, 1), (3, 1), (1, 2), (2, 2), (3, 2), (1, 3), (2, 3), (3, 3)]"
   ]
  },
  {
   "cell_type": "code",
   "execution_count": 6,
   "metadata": {},
   "outputs": [
    {
     "name": "stdout",
     "output_type": "stream",
     "text": [
      "['x', 'xx', 'xxx', 'xxxx', 'y', 'yy', 'yyy', 'yyyy', 'z', 'zz', 'zzz', 'zzzz']\n",
      "['x', 'y', 'z', 'xx', 'yy', 'zz', 'xxx', 'yyy', 'zzz', 'xxxx', 'yyyy', 'zzzz']\n",
      "[[2], [3], [4], [3], [4], [5], [4], [5], [6]]\n",
      "[[2, 3, 4, 5], [3, 4, 5, 6], [4, 5, 6, 7], [5, 6, 7, 8]]\n",
      "[(1, 1), (2, 1), (3, 1), (1, 2), (2, 2), (3, 2), (1, 3), (2, 3), (3, 3)]\n"
     ]
    }
   ],
   "source": [
    "#Q2\n",
    "print([item*num for item in ['x','y','z'] for num in range(1,5)])\n",
    "print([i*j for j in range(1,5) for i in \"xyz\"])\n",
    "print([[i+(j-1)] for j in range(1,4) for i in range(2, 5)])\n",
    "print([[i+(j-1) for j in range(1,5)] for i in range(2,6)])\n",
    "print([(i,j)for j in range(1,4) for i in range(1,4)])"
   ]
  }
 ],
 "metadata": {
  "kernelspec": {
   "display_name": "Python 3",
   "language": "python",
   "name": "python3"
  },
  "language_info": {
   "codemirror_mode": {
    "name": "ipython",
    "version": 3
   },
   "file_extension": ".py",
   "mimetype": "text/x-python",
   "name": "python",
   "nbconvert_exporter": "python",
   "pygments_lexer": "ipython3",
   "version": "3.7.6"
  }
 },
 "nbformat": 4,
 "nbformat_minor": 2
}
