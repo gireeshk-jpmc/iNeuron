{
 "cells": [
  {
   "cell_type": "markdown",
   "metadata": {},
   "source": [
    "Q.1.1 Write a Python Program(with class concepts) to find the area of the triangle using the below\n",
    "formula.\n",
    "\n",
    "area = (s*(s-a)*(s-b)*(s-c)) ** 0.5\n",
    "\n",
    "Function to take the length of the sides of triangle from user should be defined in the parent\n",
    "class and function to calculate the area should be defined in subclass."
   ]
  },
  {
   "cell_type": "code",
   "execution_count": 1,
   "metadata": {},
   "outputs": [
    {
     "name": "stdout",
     "output_type": "stream",
     "text": [
      "Enter side1 of the triangle:1\n",
      "Enter side2 of the triangle:1\n",
      "Enter side3 of the triangle:1\n",
      "area of a triangel is 12.0\n"
     ]
    }
   ],
   "source": [
    "#Q1.1\n",
    "\n",
    "class Base:\n",
    "    def __init__(self):\n",
    "        self.s1 = None\n",
    "        self.s2 = None\n",
    "        self.s3 = None\n",
    "        \n",
    "    def get_input(self):\n",
    "        self.s1 = float(input(\"Enter side1 of the triangle:\"))\n",
    "        self.s2 = float(input(\"Enter side2 of the triangle:\"))\n",
    "        self.s3 = float(input(\"Enter side3 of the triangle:\"))\n",
    "        \n",
    "class Subclass(Base):\n",
    "    def area_triangle(self):\n",
    "        a = self.s1\n",
    "        b = self.s2\n",
    "        c = self.s3\n",
    "        s = a + b + c\n",
    "        area = (s*(s-a)*(s-b)*(s-c)) * 0.5\n",
    "        print(\"area of a triangel is\", area)\n",
    "\n",
    "b1 = Subclass()\n",
    "b1.get_input()\n",
    "b1.area_triangle()\n"
   ]
  },
  {
   "cell_type": "markdown",
   "metadata": {},
   "source": [
    "Q.1.2 Write a function filter_long_words() that takes a list of words and an integer n and returns the list\n",
    "of words that are longer than n."
   ]
  },
  {
   "cell_type": "code",
   "execution_count": 2,
   "metadata": {},
   "outputs": [
    {
     "data": {
      "text/plain": [
       "['and', 'fox', 'dog', 'fox_and_dog', 'fox_and_dog_had_a_fight']"
      ]
     },
     "execution_count": 2,
     "metadata": {},
     "output_type": "execute_result"
    }
   ],
   "source": [
    "#Q 1.2\n",
    "def filter_long_words(words, n):\n",
    "    new_words = []\n",
    "    for i in words:\n",
    "        if len(i)>n:\n",
    "            new_words.append(i)\n",
    "    return new_words\n",
    "\n",
    "filter_long_words([\"a\",\"an\", \"and\", \"fox\", \"dog\", \"fox_and_dog\", \"fox_and_dog_had_a_fight\"], 2)"
   ]
  },
  {
   "cell_type": "markdown",
   "metadata": {},
   "source": [
    "Q.2.1 Write a Python program using function concept that maps list of words into a list of integers\n",
    "representing the lengths of the corresponding words.\n",
    "    \n",
    "    Hint: If a list [ ab,cde,erty] is passed on to the python function output should come as [2,3,4]\n",
    "    Here 2,3 and 4 are the lengths of the words in the list."
   ]
  },
  {
   "cell_type": "code",
   "execution_count": 3,
   "metadata": {},
   "outputs": [
    {
     "data": {
      "text/plain": [
       "[1, 2, 3, 3, 3, 11, 23]"
      ]
     },
     "execution_count": 3,
     "metadata": {},
     "output_type": "execute_result"
    }
   ],
   "source": [
    "#Q 2.1\n",
    "def words_to_len(words):\n",
    "    return [len(i) for i in words]\n",
    "\n",
    "words_to_len([\"a\",\"an\", \"and\", \"fox\", \"dog\", \"fox_and_dog\", \"fox_and_dog_had_a_fight\"])"
   ]
  },
  {
   "cell_type": "markdown",
   "metadata": {},
   "source": [
    "Q.2.2 Write a Python function which takes a character (i.e. a string of length 1) and returns True if it is\n",
    "a vowel, False otherwise."
   ]
  },
  {
   "cell_type": "code",
   "execution_count": 4,
   "metadata": {},
   "outputs": [
    {
     "data": {
      "text/plain": [
       "False"
      ]
     },
     "execution_count": 4,
     "metadata": {},
     "output_type": "execute_result"
    }
   ],
   "source": [
    "#Q 2.2\n",
    "def is_vowel(char):\n",
    "    return True if char in ('a', 'e', 'i', 'o', 'u') else False\n",
    "is_vowel('b')"
   ]
  }
 ],
 "metadata": {
  "kernelspec": {
   "display_name": "Python 3",
   "language": "python",
   "name": "python3"
  },
  "language_info": {
   "codemirror_mode": {
    "name": "ipython",
    "version": 3
   },
   "file_extension": ".py",
   "mimetype": "text/x-python",
   "name": "python",
   "nbconvert_exporter": "python",
   "pygments_lexer": "ipython3",
   "version": "3.7.6"
  }
 },
 "nbformat": 4,
 "nbformat_minor": 2
}
