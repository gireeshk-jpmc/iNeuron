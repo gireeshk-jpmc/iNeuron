{
 "cells": [
  {
   "cell_type": "markdown",
   "metadata": {},
   "source": [
    "1. Write a function so that the columns of the output matrix are powers of the input\n",
    "vector.\n",
    "Write a function so that the columns of the output matrix are powers of the input\n",
    "vector.\n",
    "The order of the powers is determined by the increasing boolean argument. Specifically, when\n",
    "increasing is False, the i-th output column is the input vector raised element-wise to the power\n",
    "of N - i - 1.\n",
    "\n",
    "HINT: Such a matrix with a geometric progression in each row is named for Alexandre-\n",
    "Theophile Vandermonde."
   ]
  },
  {
   "cell_type": "code",
   "execution_count": 4,
   "metadata": {},
   "outputs": [
    {
     "name": "stdout",
     "output_type": "stream",
     "text": [
      "[[  1   1   1   1]\n",
      " [  8   4   2   1]\n",
      " [ 64  16   4   1]\n",
      " [216  36   6   1]] \n",
      "\n",
      "\n",
      "[[  1   1   1   1]\n",
      " [  1   2   4   8]\n",
      " [  1   4  16  64]\n",
      " [  1   6  36 216]]\n"
     ]
    }
   ],
   "source": [
    "import numpy as np\n",
    "\n",
    "\n",
    "a = np.array ([1,2,4,6])\n",
    "Y = 4\n",
    "print(np.vander(a, Y), \"\\n\\n\")\n",
    "print(np.vander(a, Y, increasing=True))"
   ]
  },
  {
   "cell_type": "markdown",
   "metadata": {},
   "source": [
    "2. Given a sequence of n values x1, x2, ..., xn and a window size k>0, the k-th moving average of\n",
    "    the given sequence is defined as follows:\n",
    "    The moving average sequence has n-k+1 elements as shown below.\n",
    "    The moving averages with k=4 of a ten-value sequence (n=10) is shown below\n",
    "\n",
    "\n",
    "        i 1 2 3 4 5 6 7 8 9 10\n",
    "        ===== == == == == == == == == == ==\n",
    "        Input 10 20 30 40 50 60 70 80 90 100\n",
    "        y1 25 = (10+20+30+40)/4\n",
    "        y2 35 = (20+30+40+50)/4\n",
    "        y3 45 = (30+40+50+60)/4\n",
    "        y4 55 = (40+50+60+70)/4\n",
    "        y5 65 = (50+60+70+80)/4\n",
    "        y6 75 = (60+70+80+90)/4\n",
    "        y7 85 = (70+80+90+100)/4\n",
    "    Thus, the moving average sequence has n-k+1=10-4+1=7 values.\n",
    "    \n",
    "\n",
    "    Question: Write a function to find moving average in an array over a window:\n",
    "    Test it over [3, 5, 7, 2, 8, 10, 11, 65, 72, 81, 99, 100, 150] and window of 3.\n"
   ]
  },
  {
   "cell_type": "code",
   "execution_count": 14,
   "metadata": {},
   "outputs": [
    {
     "name": "stdout",
     "output_type": "stream",
     "text": [
      "y1: [3 5 7] => 5.0\n",
      "y2: [5 7 2] => 4.666666666666667\n",
      "y3: [7 2 8] => 5.666666666666667\n",
      "y4: [ 2  8 10] => 6.666666666666667\n",
      "y5: [ 8 10 11] => 9.666666666666666\n",
      "y6: [10 11 65] => 28.666666666666668\n",
      "y7: [11 65 72] => 49.333333333333336\n",
      "y8: [65 72 81] => 72.66666666666667\n",
      "y9: [72 81 99] => 84.0\n",
      "y10: [ 81  99 100] => 93.33333333333333\n",
      "y11: [ 99 100 150] => 116.33333333333333\n",
      "final list of moving avg: [5.0, 4.666666666666667, 5.666666666666667, 6.666666666666667, 9.666666666666666, 28.666666666666668, 49.333333333333336, 72.66666666666667, 84.0, 93.33333333333333, 116.33333333333333]\n",
      "\n",
      "Thus, the moving average sequence has n-k+1= 11 values\n"
     ]
    }
   ],
   "source": [
    "#2 solution\n",
    "\n",
    "arr = np.array([3, 5, 7, 2, 8, 10, 11, 65, 72, 81, 99, 100, 150])\n",
    "window = 3\n",
    "moving_avg_list = []\n",
    "for start_idx in range(0, len(arr)):\n",
    "    end_idx = start_idx + window\n",
    "    \n",
    "    if end_idx > len(arr):\n",
    "        break\n",
    "    \n",
    "    window_arr = np.take(arr, range(start_idx, end_idx))\n",
    "    \n",
    "    avg = np.average(window_arr)\n",
    "    print(\"y\"+str(start_idx+1)+\":\", window_arr, \"=>\", avg )\n",
    "    \n",
    "    \n",
    "    moving_avg_list.append(avg)\n",
    "    \n",
    "print(\"final list of moving avg:\", moving_avg_list)\n",
    "print(\"\\nThus, the moving average sequence has n-k+1=\", len(arr)-window+1 , \"values\")"
   ]
  },
  {
   "cell_type": "code",
   "execution_count": null,
   "metadata": {},
   "outputs": [],
   "source": []
  }
 ],
 "metadata": {
  "kernelspec": {
   "display_name": "Python 3",
   "language": "python",
   "name": "python3"
  },
  "language_info": {
   "codemirror_mode": {
    "name": "ipython",
    "version": 3
   },
   "file_extension": ".py",
   "mimetype": "text/x-python",
   "name": "python",
   "nbconvert_exporter": "python",
   "pygments_lexer": "ipython3",
   "version": "3.7.6"
  }
 },
 "nbformat": 4,
 "nbformat_minor": 4
}
